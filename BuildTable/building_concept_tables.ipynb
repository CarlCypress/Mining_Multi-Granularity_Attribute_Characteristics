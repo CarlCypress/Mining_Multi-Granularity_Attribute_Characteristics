{
 "cells": [
  {
   "cell_type": "markdown",
   "metadata": {},
   "source": [
    "## 导包"
   ]
  },
  {
   "cell_type": "code",
   "execution_count": 1,
   "metadata": {},
   "outputs": [],
   "source": [
    "import re # 正则表达式\n",
    "import numpy as np\n",
    "import pandas as pd\n",
    "from ToolScript.readSql import sql_tool # 数据库工具 (自行参考源代码，封装后可以针对此电脑直接调用)\n",
    "from sklearn.preprocessing import OrdinalEncoder # 热度编码工具"
   ]
  },
  {
   "cell_type": "markdown",
   "metadata": {},
   "source": [
    "## 数据库存写工具"
   ]
  },
  {
   "cell_type": "code",
   "execution_count": 2,
   "metadata": {},
   "outputs": [],
   "source": [
    "ys = sql_tool('Yago')\n",
    "read_tool = sql_tool('YagoCore')"
   ]
  },
  {
   "cell_type": "markdown",
   "metadata": {},
   "source": [
    "## 需要操作的concept"
   ]
  },
  {
   "cell_type": "code",
   "execution_count": 3,
   "metadata": {},
   "outputs": [],
   "source": [
    "concept_list = ['wikicat_British_economists', 'wikicat_Chinese_comedy_films', 'wikicat_Populated_lakeshore_places', 'wikicat_Law_schools']"
   ]
  },
  {
   "cell_type": "markdown",
   "metadata": {},
   "source": [
    "## 读取表格"
   ]
  },
  {
   "cell_type": "code",
   "execution_count": 4,
   "metadata": {
    "scrolled": true
   },
   "outputs": [
    {
     "name": "stdout",
     "output_type": "stream",
     "text": [
      "yagoSchema表读出成功!\n",
      "yagoDateFacts表读出成功!\n",
      "yagoFacts表读出成功!\n",
      "yagoLabels表读出成功!\n",
      "yagoLiteralFacts表读出成功!\n",
      "yagoTaxonomy表读出成功!\n",
      "yagoTransitiveType表读出成功!\n"
     ]
    }
   ],
   "source": [
    "yagoSchema = ys.get_table('yagoSchema')\n",
    "yagoDateFacts = ys.get_table('yagoDateFacts')\n",
    "yagoFacts = ys.get_table('yagoFacts')\n",
    "yagoLabels = ys.get_table('yagoLabels')\n",
    "yagoLiteralFacts = ys.get_table('yagoLiteralFacts')\n",
    "yagoTaxonomy = ys.get_table('yagoTaxonomy')\n",
    "yagoTransitiveType = ys.get_table('yagoTransitiveType')"
   ]
  },
  {
   "cell_type": "code",
   "execution_count": 5,
   "metadata": {},
   "outputs": [
    {
     "name": "stdout",
     "output_type": "stream",
     "text": [
      "yagoCountTaxonomy表读出成功!\n"
     ]
    }
   ],
   "source": [
    "yago_pure_tool = sql_tool('Yago_pure')\n",
    "yagoCountTaxonomy = yago_pure_tool.get_table('yagoCountTaxonomy')"
   ]
  },
  {
   "cell_type": "code",
   "execution_count": 8,
   "metadata": {},
   "outputs": [],
   "source": [
    "is_exsit_instance = yagoCountTaxonomy['concept'].values"
   ]
  },
  {
   "cell_type": "code",
   "execution_count": 6,
   "metadata": {
    "scrolled": true
   },
   "outputs": [
    {
     "name": "stdout",
     "output_type": "stream",
     "text": [
      "instance_code表读出成功!\n",
      "predicate_code表读出成功!\n",
      "attribute_value_type_code表读出成功!\n",
      "attribute_value_code表读出成功!\n"
     ]
    }
   ],
   "source": [
    "subject_df = read_tool.get_table('instance_code')\n",
    "predicates_df = read_tool.get_table('predicate_code')\n",
    "object_3_df = read_tool.get_table('attribute_value_type_code')\n",
    "object_4_df = read_tool.get_table('attribute_value_code')"
   ]
  },
  {
   "cell_type": "code",
   "execution_count": 10,
   "metadata": {},
   "outputs": [],
   "source": [
    "instance_map = subject_df.set_index(['instance'])['code'].to_dict()\n",
    "predicate_map = predicates_df.set_index(['predicate'])['code'].to_dict()\n",
    "object3_map = object_3_df.set_index(['attribute_value_type'])['code'].to_dict()\n",
    "object4_map = object_4_df.set_index(['attribute_value'])['code'].to_dict()"
   ]
  },
  {
   "cell_type": "markdown",
   "metadata": {},
   "source": [
    "**注：** 将 `DataFrame` 转换为Python内置的 `set` ，主要为了提高效率，在后面的映射编码过程中，每次查表(`DataFrame`)耗时长，具体底层不清楚，时间复杂度应该是线性 `O(n)`。而 `set` 为红黑树，时间复杂度为 `O(log n)` 。"
   ]
  },
  {
   "cell_type": "markdown",
   "metadata": {},
   "source": [
    "## 定义工具类"
   ]
  },
  {
   "cell_type": "code",
   "execution_count": 24,
   "metadata": {},
   "outputs": [],
   "source": [
    "class make_X_matrix:\n",
    "    \n",
    "    def __init__(self, concept):\n",
    "        self.x = concept # 概念名称\n",
    "        self.table_no = -1 # 第几个表\n",
    "        self.subconcept = None\n",
    "        self.subconcept_code = None\n",
    "        self.instance_name = None\n",
    "        self.x_index = None\n",
    "        self.x_column = None\n",
    "        self.instance_df = None\n",
    "        self.instance_map_df = None\n",
    "        self.x_matrix = None\n",
    "        pass\n",
    "    \n",
    "    def set_table_no(self, num):\n",
    "        '''设置每个概念对应的第num个矩阵，\n",
    "        主要为instance_map_df中的object列不同而作区分。\n",
    "        '''\n",
    "        self.table_no = num\n",
    "        pass\n",
    "    \n",
    "    def get_subconcept(self):\n",
    "        '''获取concept在yagoTaxonomy表object中对应的所有行，\n",
    "        逻辑为subconcept为子概念。\n",
    "        '''\n",
    "#         self.subconcept = yagoTaxonomy.loc[yagoTaxonomy['object'] == self.x, 'subject'].values # 此处不满足后期要求，只记录有实例的子概念\n",
    "        self.subconcept = np.array([ subconcept for subconcept in yagoTaxonomy.loc[yagoTaxonomy['object'] == self.x, 'subject'].values if subconcept in is_exsit_instance])\n",
    "        pass\n",
    "    \n",
    "    def encode_subconcept(self):\n",
    "        '''对concept的子概念进行编码'''\n",
    "        enc = OrdinalEncoder() # 编码工具类\n",
    "        enc.fit(self.subconcept.reshape(-1, 1)) # 对子概念进行'训练'\n",
    "        encode_sub = enc.transform(self.subconcept.reshape(-1, 1)) + 1 #下标从1开始\n",
    "        self.subconcept_code = pd.DataFrame({'subconcept': self.subconcept, 'code': encode_sub.reshape(-1)}) # 封装成dataframe\n",
    "        pass\n",
    "    \n",
    "    def get_instance_name(self):\n",
    "        '''获取concept在yagoTransitiveType中的object中的所有行，\n",
    "        即实例名。\n",
    "        '''\n",
    "        self.instance_name = yagoTransitiveType.loc[yagoTransitiveType['object'] == self.x, 'subject']\n",
    "        pass\n",
    "    \n",
    "    def get_matrix_index(self):\n",
    "        '''对instance_name的所有实例名按照instance_code进行映射编码。\n",
    "        '''\n",
    "        self.x_index = self.instance_name.apply(lambda x : subject_df.loc[subject_df['instance'] == x, 'code'].values[0]).values\n",
    "        pass\n",
    "    \n",
    "    def filter_instance(self):\n",
    "        '''获取 yagoDateFacts, yagoFacts, yagoLabels, yagoLiteralFacts 表中所有subject存在instance_name中的行。\n",
    "        '''\n",
    "        self.instance_df = pd.DataFrame([], columns=['subject', 'predicates', 'object'], dtype=object) # 建立表头\n",
    "        tmp_list = [yagoDateFacts, yagoFacts, yagoLabels, yagoLiteralFacts] # 将3个表格封装在list中\n",
    "        for tb in tmp_list: # 挨个遍历list中的table\n",
    "            temp_sub = tb.loc[tb['subject'].apply(lambda x : x in self.instance_name.values), :] # 提取出在tb表中符合要求的行\n",
    "            self.instance_df = pd.concat([self.instance_df, temp_sub]) # 将提取出来的行装入instance_df\n",
    "        pass\n",
    "    \n",
    "    def map_instance_df(self):\n",
    "        '''根据不同矩阵，将instance_df中的三列映射成不同的数值。\n",
    "        '''\n",
    "        self.instance_map_df = self.instance_df.copy()\n",
    "        # 将 instance_df 拷贝到 instance_map_df，主要为了后期debug使用，同时对instance_df进行保存\n",
    "        \n",
    "        # 将 subject、predicates两列分别按照 instance_code、predicate_code进行映射\n",
    "        self.instance_map_df.loc[:, 'subject'] = self.instance_df['subject'].apply(lambda x : instance_map[x])\n",
    "        self.instance_map_df.loc[:, 'predicates'] = self.instance_df['predicates'].apply(lambda x : predicate_map[x])\n",
    "        if self.table_no == 3:\n",
    "            '''concept的矩阵3对于object列的映射不同于其他表，因此为特殊处理。\n",
    "            此处非常耗时，可以再进行优化。主要问题是loc切片操作为线性时间复杂度\n",
    "            '''\n",
    "            # 前两个提取为预处理\n",
    "            # 对于instance_df的object中第一个字符为'<'的object提取出来\n",
    "            bracket_objects = self.instance_df.loc[\n",
    "                self.instance_df['object'].apply(lambda x : x[0] == '<'), 'object'\n",
    "            ].values\n",
    "            \n",
    "            # 将 yagoTransitiveType 的 subject在 bracket_objects 中提出出来，其实这一步应该非常耗费时间\n",
    "            need_yagoTransitiveType = yagoTransitiveType.loc[\n",
    "                yagoTransitiveType['subject'].apply(lambda x : x in bracket_objects), :\n",
    "            ]\n",
    "            \n",
    "            # 下面是对instance_df中的object进行映射(根据矩阵3的具体要求)\n",
    "            # 其具体要求为：如果object中的元素第一个字符为 '<'那么就去在 yagoTransitiveType 中找 subject为该object的所有行，\n",
    "            # 并按照 attribute_value_type 进行映射，再将这一个或多个的映射结果按照中间加 ',' 的方式拼接起来\n",
    "            obj_ = np.array([])\n",
    "            # 挨个遍历 instance_df 中的每一行\n",
    "            for idx, row in self.instance_df.iterrows():\n",
    "                # 如果 object第一个字符为 '<'\n",
    "                if row['object'][0] == '<':\n",
    "                    # 就去 yagoTransitiveType 中找 subject 为 row['object'] 的所有行，\n",
    "                    # 并通过 apply方法通过 attribute_value_type 映射表进行独热映射\n",
    "                    tmp_ls = need_yagoTransitiveType.loc[need_yagoTransitiveType['subject'] == row['object'], 'object'].apply(\n",
    "                        lambda x : object3_map[x]).values\n",
    "                    # 一下三行code是对一个或多个的映射结果进行中间加 ',' 的方式拼接起来\n",
    "                    _3 = '0' if len(tmp_ls) == 0 else str(int(tmp_ls[0]))\n",
    "                    for i in range(1, len(tmp_ls)):\n",
    "                        _3 = _3 + ',' + str(int(tmp_ls[i]))\n",
    "                # 如果第一个字符不是 '<'\n",
    "                else:\n",
    "                    # 那么使用 object在instance表中对应的predicates找对应在 yagoSchema 中 subject 对应的object 在 attribute_value_type 对应的编码\n",
    "                    _object = yagoSchema.loc[yagoSchema['subject'] == row['predicates'], 'object'].values[0]\n",
    "                    _3 = str(int(object3_map[_object]))\n",
    "                # 将每行的object对应的编码结果装入 obj_\n",
    "                obj_ = np.append(obj_, _3)\n",
    "            # 使用 obj_ 覆盖 instance_map_df 中的 object\n",
    "            self.instance_map_df.loc[:, 'object'] = obj_\n",
    "        else:\n",
    "            # 如果不是矩阵3，\n",
    "            # 那么object只需要使用attribute_value表进行映射\n",
    "            self.instance_map_df.loc[:, 'object'] = self.instance_df['object'].apply(lambda x : object4_map[x])\n",
    "        pass\n",
    "    \n",
    "    def get_matrix_columns(self):\n",
    "        '''获取矩阵的列名称'''\n",
    "        # 即 instance_map_df 表中的所有 predicates 的value进行去重后的结果，此处封装成np.array\n",
    "        # 将去重的结果用字符进行排序(不用数值的原因在于与后面的顺序方式保持一致)，然后再转换为int类型\n",
    "        self.x_column = np.sort(np.array(list(set(self.instance_map_df['predicates'].values))).astype('U25')).astype('f').astype('int')\n",
    "        pass\n",
    "    \n",
    "    def get_matrix(self):\n",
    "        '''获得最终的矩阵(除去instance、subconcept两列)\n",
    "        '''\n",
    "        # 首先使用 0 初始化矩阵\n",
    "        self.x_matrix = pd.DataFrame(\n",
    "            np.zeros((len(self.x_index), len(self.x_column)), dtype=int), \n",
    "            index=self.x_index, columns=self.x_column)\n",
    "        # 利用 instance_map_df 的映射表挨个填入对应的matrix\n",
    "        # instance_map_df 的subject即为矩阵的行，predicates 对应矩阵的列\n",
    "        for idx, row in self.instance_map_df.iterrows():\n",
    "            if self.table_no == 1:\n",
    "                # 如果是矩阵1，只需要填入0、1即可\n",
    "                self.x_matrix.loc[row['subject'], row['predicates']] = 1\n",
    "            elif self.table_no == 2:\n",
    "                # 矩阵2，如果 instance_map_df 中有一条记录，那么就需要+1\n",
    "                self.x_matrix.loc[row['subject'], row['predicates']] += 1\n",
    "            elif self.table_no == 3:\n",
    "                # 如果是矩阵3，那么使用追加的方式，向矩阵中填入 instance_map_df 对应的 object (中间加',')\n",
    "                last_val = self.x_matrix.loc[row['subject'], row['predicates']]\n",
    "                # 如果 last_val 为 0 表示 是第一次往该元素格中写入元素\n",
    "                if last_val == 0:\n",
    "                    self.x_matrix.loc[row['subject'], row['predicates']] = row['object']\n",
    "                # 在上次的基础上，中间添加','的方式追加value\n",
    "                else:\n",
    "                    self.x_matrix.loc[row['subject'], row['predicates']] = last_val + ',' + row['object']\n",
    "            elif self.table_no == 4:\n",
    "                # 如果是矩阵4，其填入的方式基本和矩阵3思路一致，仅仅是细节不同\n",
    "                last_val = self.x_matrix.loc[row['subject'], row['predicates']]\n",
    "                # 因为 矩阵4在 instance_map_df 映射预处理时，每个object是一个float类型，\n",
    "                # 因此需要对这个value 进行 str(int(value)) 后进行拼接\n",
    "                if last_val == 0:\n",
    "                    self.x_matrix.loc[row['subject'], row['predicates']] = str(int(row['object']))\n",
    "                else:\n",
    "                    self.x_matrix.loc[row['subject'], row['predicates']] = last_val + ',' + str(int(row['object']))\n",
    "        pass\n",
    "    \n",
    "    def append_columns(self):\n",
    "        # 单独计算子概念\n",
    "        # 将index添加到instance列，否则sql server中不会有该信息\n",
    "        self.x_matrix['instance'] = self.x_matrix.index.values\n",
    "        # 将subject列初始化为-1\n",
    "        self.x_matrix['subconcept'] = int(-1)\n",
    "        # 遍历x的子概念\n",
    "        for sub in self.subconcept:\n",
    "            # 将子概念对应在yagoTransitiveType的object的所有行的subject取出\n",
    "            sub_subject_series = yagoTransitiveType.loc[yagoTransitiveType['object'] == sub, 'subject']\n",
    "            \n",
    "            # 遍历每一个子概念\n",
    "            for son_sub in sub_subject_series:\n",
    "                # 找到 subject_df 中 son_sub对应的独热编码\n",
    "                idx = subject_df.loc[subject_df['instance'] == son_sub, 'code'].values[0]\n",
    "                # 如果该编码在x的instance列中出现了，就需要将其子概念编码填入其中(下面的if就是在做这个事情)\n",
    "                if idx in self.x_matrix.index:\n",
    "                    # 编码一定唯一存在一个\n",
    "                    new_value = int(self.subconcept_code.loc[self.subconcept_code['subconcept'] == sub, 'code'].values[0])\n",
    "                    # 取出原来的cell当中的值\n",
    "                    cell_value = self.x_matrix.loc[idx, 'subconcept']\n",
    "                    # 最开始的初始化为-1，如果不等于-1说明已经填入了值，那么需要append，而不是直接覆盖\n",
    "                    if cell_value != -1:\n",
    "                        new_value = str(cell_value) + ',' + str(new_value)\n",
    "                    \n",
    "                    # 将新的val覆盖到原cell中\n",
    "                    self.x_matrix.loc[idx, 'subconcept'] = new_value\n",
    "        # 下面三行主要是为了调换一下x_matrix的列顺序\n",
    "        new_columns = [self.x_matrix.columns.values[-2], self.x_matrix.columns.values[-1]]\n",
    "        new_columns = np.append(new_columns, self.x_matrix.columns.values[:-2])\n",
    "        self.x_matrix = self.x_matrix[new_columns]\n",
    "        pass\n",
    "    \n",
    "    def set_values(self):\n",
    "        '''对矩阵中的值进行去重复\n",
    "        '''\n",
    "        \n",
    "        # 首先需要获取矩阵的位置坐标\n",
    "        pos_df = self.instance_map_df[['subject', 'predicates']]\n",
    "        # 所有的位置我们只需要遍历一次，所以进行一次去重\n",
    "        pos_df = pos_df.loc[pos_df.duplicated() != True, :]\n",
    "        \n",
    "        for idx, row in pos_df.iterrows():\n",
    "            str_val = str(self.x_matrix.loc[row['subject'], row['predicates']]) # 切出单个元素\n",
    "            ls_val = list(set(map(int, str_val.split(',')))) # 首先利用 split进行切成单个数字，然后利用set去重\n",
    "            res = str(ls_val[0])\n",
    "            # 将这里list数字转换成为str\n",
    "            for i in range(1, len(ls_val)):\n",
    "                res = res + ',' + str(ls_val[i])\n",
    "            # 填入cell\n",
    "            self.x_matrix.loc[row['subject'], row['predicates']] = res\n",
    "        pass\n",
    "    \n",
    "    def pre_work(self):\n",
    "        '''对于4个矩阵来说，前4步的处理都是一样的，因此在实际处理的时候，可以只处理一次，\n",
    "        即称为预处理'''\n",
    "        self.get_subconcept() # 获取x的子概念\n",
    "        print('完成获取子概念')\n",
    "        self.encode_subconcept() # 对子概念进行编码\n",
    "        print('完成子概念编码，其大小为：', self.subconcept_code.shape)\n",
    "        self.get_instance_name() # 从 yagoTransitiveType 中获取所有的实例str\n",
    "        print('完成获取实例名')\n",
    "        self.filter_instance() # 从4个表中提取属于x实例的所有三元组\n",
    "        print('完成实例筛选，其大小为：', self.instance_df.shape)\n",
    "        pass\n",
    "    \n",
    "    def all_matrix_into_sql(self, cnt=999):\n",
    "        '''将所有的矩阵存入sql server'''\n",
    "        # 存入的后缀名不同\n",
    "        matrix_name_list = ['', 'binary', 'number', 'type', 'value']\n",
    "        self.pre_work() # 每个矩阵的相同步骤\n",
    "        tool = sql_tool('YagoCore')\n",
    "        table_name = 'concept_%d_subconcept_code' % cnt\n",
    "        tool.to_sql(self.subconcept_code, table_name) # 将子概念的编码存入sql\n",
    "        self.map_instance_df() # 映射表\n",
    "        print('完成instance三元组的编码')\n",
    "        self.get_matrix_index() # 获取矩阵的行名\n",
    "        self.get_matrix_columns() # 获取矩阵的列名\n",
    "        \n",
    "        for i in [1, 2, 4, 3]: # 矩阵3的计算时间最长，放最后处理(当然可以不用这样)\n",
    "            self.set_table_no(i) # 矩阵i\n",
    "            if i == 3:\n",
    "                # 如果是矩阵3，那么要重新计算映射表\n",
    "                self.map_instance_df()\n",
    "                print('最后映射完成')\n",
    "            self.get_matrix()\n",
    "            print('成功获取矩阵')\n",
    "            self.append_columns() # 添加 instance、subconcept两列\n",
    "            if i in [3, 4]:\n",
    "                # 如果是矩阵3、4，那么需要对矩阵中的值进行set去重处理\n",
    "                self.set_values()\n",
    "            matrix_name = 'concept_' + str(cnt) + '_' + matrix_name_list[i]\n",
    "            tool.to_sql(self.x_matrix, matrix_name) # 存入 sql\n",
    "        \n",
    "        related_table_name = 'concept_%d_related' % cnt\n",
    "        tool.to_sql(self.instance_df, related_table_name)"
   ]
  },
  {
   "cell_type": "markdown",
   "metadata": {},
   "source": [
    "## 执行"
   ]
  },
  {
   "cell_type": "code",
   "execution_count": 25,
   "metadata": {},
   "outputs": [
    {
     "name": "stdout",
     "output_type": "stream",
     "text": [
      "完成获取子概念\n",
      "完成子概念编码，其大小为： (3, 2)\n"
     ]
    },
    {
     "name": "stderr",
     "output_type": "stream",
     "text": [
      "E:\\Anaconda\\lib\\site-packages\\sklearn\\preprocessing\\_encoders.py:110: DeprecationWarning: `np.int` is a deprecated alias for the builtin `int`. To silence this warning, use `int` by itself. Doing this will not modify any behavior and is safe. When replacing `np.int`, you may wish to use e.g. `np.int64` or `np.int32` to specify the precision. If you wish to review your current use, check the release note link for additional information.\n",
      "Deprecated in NumPy 1.20; for more details and guidance: https://numpy.org/devdocs/release/1.20.0-notes.html#deprecations\n",
      "  X_int = np.zeros((n_samples, n_features), dtype=np.int)\n",
      "E:\\Anaconda\\lib\\site-packages\\sklearn\\preprocessing\\_encoders.py:111: DeprecationWarning: `np.bool` is a deprecated alias for the builtin `bool`. To silence this warning, use `bool` by itself. Doing this will not modify any behavior and is safe. If you specifically wanted the numpy scalar type, use `np.bool_` here.\n",
      "Deprecated in NumPy 1.20; for more details and guidance: https://numpy.org/devdocs/release/1.20.0-notes.html#deprecations\n",
      "  X_mask = np.ones((n_samples, n_features), dtype=np.bool)\n"
     ]
    },
    {
     "name": "stdout",
     "output_type": "stream",
     "text": [
      "完成获取实例名\n",
      "完成实例筛选，其大小为： (14098, 3)\n",
      "concept_1_subconcept_code表已存入Sql Server!\n",
      "完成instance三元组的编码\n",
      "成功获取矩阵\n",
      "concept_1_binary表已存入Sql Server!\n",
      "成功获取矩阵\n",
      "concept_1_number表已存入Sql Server!\n",
      "成功获取矩阵\n",
      "concept_1_value表已存入Sql Server!\n",
      "最后映射完成\n",
      "成功获取矩阵\n",
      "concept_1_type表已存入Sql Server!\n",
      "concept_1_related表已存入Sql Server!\n",
      "完成获取子概念\n",
      "完成子概念编码，其大小为： (8, 2)\n"
     ]
    },
    {
     "name": "stderr",
     "output_type": "stream",
     "text": [
      "E:\\Anaconda\\lib\\site-packages\\sklearn\\preprocessing\\_encoders.py:110: DeprecationWarning: `np.int` is a deprecated alias for the builtin `int`. To silence this warning, use `int` by itself. Doing this will not modify any behavior and is safe. When replacing `np.int`, you may wish to use e.g. `np.int64` or `np.int32` to specify the precision. If you wish to review your current use, check the release note link for additional information.\n",
      "Deprecated in NumPy 1.20; for more details and guidance: https://numpy.org/devdocs/release/1.20.0-notes.html#deprecations\n",
      "  X_int = np.zeros((n_samples, n_features), dtype=np.int)\n",
      "E:\\Anaconda\\lib\\site-packages\\sklearn\\preprocessing\\_encoders.py:111: DeprecationWarning: `np.bool` is a deprecated alias for the builtin `bool`. To silence this warning, use `bool` by itself. Doing this will not modify any behavior and is safe. If you specifically wanted the numpy scalar type, use `np.bool_` here.\n",
      "Deprecated in NumPy 1.20; for more details and guidance: https://numpy.org/devdocs/release/1.20.0-notes.html#deprecations\n",
      "  X_mask = np.ones((n_samples, n_features), dtype=np.bool)\n"
     ]
    },
    {
     "name": "stdout",
     "output_type": "stream",
     "text": [
      "完成获取实例名\n",
      "完成实例筛选，其大小为： (12512, 3)\n",
      "concept_2_subconcept_code表已存入Sql Server!\n",
      "完成instance三元组的编码\n",
      "成功获取矩阵\n",
      "concept_2_binary表已存入Sql Server!\n",
      "成功获取矩阵\n",
      "concept_2_number表已存入Sql Server!\n",
      "成功获取矩阵\n",
      "concept_2_value表已存入Sql Server!\n",
      "最后映射完成\n",
      "成功获取矩阵\n",
      "concept_2_type表已存入Sql Server!\n",
      "concept_2_related表已存入Sql Server!\n",
      "完成获取子概念\n",
      "完成子概念编码，其大小为： (5, 2)\n"
     ]
    },
    {
     "name": "stderr",
     "output_type": "stream",
     "text": [
      "E:\\Anaconda\\lib\\site-packages\\sklearn\\preprocessing\\_encoders.py:110: DeprecationWarning: `np.int` is a deprecated alias for the builtin `int`. To silence this warning, use `int` by itself. Doing this will not modify any behavior and is safe. When replacing `np.int`, you may wish to use e.g. `np.int64` or `np.int32` to specify the precision. If you wish to review your current use, check the release note link for additional information.\n",
      "Deprecated in NumPy 1.20; for more details and guidance: https://numpy.org/devdocs/release/1.20.0-notes.html#deprecations\n",
      "  X_int = np.zeros((n_samples, n_features), dtype=np.int)\n",
      "E:\\Anaconda\\lib\\site-packages\\sklearn\\preprocessing\\_encoders.py:111: DeprecationWarning: `np.bool` is a deprecated alias for the builtin `bool`. To silence this warning, use `bool` by itself. Doing this will not modify any behavior and is safe. If you specifically wanted the numpy scalar type, use `np.bool_` here.\n",
      "Deprecated in NumPy 1.20; for more details and guidance: https://numpy.org/devdocs/release/1.20.0-notes.html#deprecations\n",
      "  X_mask = np.ones((n_samples, n_features), dtype=np.bool)\n"
     ]
    },
    {
     "name": "stdout",
     "output_type": "stream",
     "text": [
      "完成获取实例名\n",
      "完成实例筛选，其大小为： (32804, 3)\n",
      "concept_3_subconcept_code表已存入Sql Server!\n",
      "完成instance三元组的编码\n",
      "成功获取矩阵\n",
      "concept_3_binary表已存入Sql Server!\n",
      "成功获取矩阵\n",
      "concept_3_number表已存入Sql Server!\n",
      "成功获取矩阵\n",
      "concept_3_value表已存入Sql Server!\n",
      "最后映射完成\n",
      "成功获取矩阵\n",
      "concept_3_type表已存入Sql Server!\n",
      "concept_3_related表已存入Sql Server!\n",
      "完成获取子概念\n",
      "完成子概念编码，其大小为： (4, 2)\n"
     ]
    },
    {
     "name": "stderr",
     "output_type": "stream",
     "text": [
      "E:\\Anaconda\\lib\\site-packages\\sklearn\\preprocessing\\_encoders.py:110: DeprecationWarning: `np.int` is a deprecated alias for the builtin `int`. To silence this warning, use `int` by itself. Doing this will not modify any behavior and is safe. When replacing `np.int`, you may wish to use e.g. `np.int64` or `np.int32` to specify the precision. If you wish to review your current use, check the release note link for additional information.\n",
      "Deprecated in NumPy 1.20; for more details and guidance: https://numpy.org/devdocs/release/1.20.0-notes.html#deprecations\n",
      "  X_int = np.zeros((n_samples, n_features), dtype=np.int)\n",
      "E:\\Anaconda\\lib\\site-packages\\sklearn\\preprocessing\\_encoders.py:111: DeprecationWarning: `np.bool` is a deprecated alias for the builtin `bool`. To silence this warning, use `bool` by itself. Doing this will not modify any behavior and is safe. If you specifically wanted the numpy scalar type, use `np.bool_` here.\n",
      "Deprecated in NumPy 1.20; for more details and guidance: https://numpy.org/devdocs/release/1.20.0-notes.html#deprecations\n",
      "  X_mask = np.ones((n_samples, n_features), dtype=np.bool)\n"
     ]
    },
    {
     "name": "stdout",
     "output_type": "stream",
     "text": [
      "完成获取实例名\n",
      "完成实例筛选，其大小为： (8844, 3)\n",
      "concept_4_subconcept_code表已存入Sql Server!\n",
      "完成instance三元组的编码\n",
      "成功获取矩阵\n",
      "concept_4_binary表已存入Sql Server!\n",
      "成功获取矩阵\n",
      "concept_4_number表已存入Sql Server!\n",
      "成功获取矩阵\n",
      "concept_4_value表已存入Sql Server!\n",
      "最后映射完成\n",
      "成功获取矩阵\n",
      "concept_4_type表已存入Sql Server!\n",
      "concept_4_related表已存入Sql Server!\n"
     ]
    }
   ],
   "source": [
    "for idx in range(len(concept_list)):\n",
    "    concept = '<' + concept_list[idx] + '>' # 添加尖括号，符合源数据规则\n",
    "    calc_m = make_X_matrix(concept) # 创建计算矩阵的工具类\n",
    "    calc_m.all_matrix_into_sql(idx + 1) # 所有矩阵放入数据库，下标从1开始"
   ]
  },
  {
   "cell_type": "markdown",
   "metadata": {},
   "source": [
    "## 完成"
   ]
  }
 ],
 "metadata": {
  "kernelspec": {
   "display_name": "Python 3",
   "language": "python",
   "name": "python3"
  },
  "language_info": {
   "codemirror_mode": {
    "name": "ipython",
    "version": 3
   },
   "file_extension": ".py",
   "mimetype": "text/x-python",
   "name": "python",
   "nbconvert_exporter": "python",
   "pygments_lexer": "ipython3",
   "version": "3.7.4"
  }
 },
 "nbformat": 4,
 "nbformat_minor": 2
}
